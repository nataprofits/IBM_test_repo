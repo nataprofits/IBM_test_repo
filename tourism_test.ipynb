{
 "cells": [
  {
   "cell_type": "code",
   "execution_count": 1,
   "metadata": {},
   "outputs": [
    {
     "name": "stdout",
     "output_type": "stream",
     "text": [
      "Defaulting to user installation because normal site-packages is not writeable\n",
      "Requirement already satisfied: ipython-sql in /Users/nata/Library/Python/3.9/lib/python/site-packages (0.5.0)\n",
      "Requirement already satisfied: prettytable in /Users/nata/Library/Python/3.9/lib/python/site-packages (from ipython-sql) (3.11.0)\n",
      "Requirement already satisfied: ipython in /Users/nata/Library/Python/3.9/lib/python/site-packages (from ipython-sql) (8.18.1)\n",
      "Requirement already satisfied: sqlalchemy>=2.0 in /Users/nata/Library/Python/3.9/lib/python/site-packages (from ipython-sql) (2.0.34)\n",
      "Requirement already satisfied: sqlparse in /Users/nata/Library/Python/3.9/lib/python/site-packages (from ipython-sql) (0.5.1)\n",
      "Requirement already satisfied: six in /Library/Developer/CommandLineTools/Library/Frameworks/Python3.framework/Versions/3.9/lib/python3.9/site-packages (from ipython-sql) (1.15.0)\n",
      "Requirement already satisfied: ipython-genutils in /Users/nata/Library/Python/3.9/lib/python/site-packages (from ipython-sql) (0.2.0)\n",
      "Requirement already satisfied: typing-extensions>=4.6.0 in /Users/nata/Library/Python/3.9/lib/python/site-packages (from sqlalchemy>=2.0->ipython-sql) (4.12.2)\n",
      "Requirement already satisfied: greenlet!=0.4.17 in /Users/nata/Library/Python/3.9/lib/python/site-packages (from sqlalchemy>=2.0->ipython-sql) (3.1.0)\n",
      "Requirement already satisfied: decorator in /Users/nata/Library/Python/3.9/lib/python/site-packages (from ipython->ipython-sql) (5.1.1)\n",
      "Requirement already satisfied: jedi>=0.16 in /Users/nata/Library/Python/3.9/lib/python/site-packages (from ipython->ipython-sql) (0.19.1)\n",
      "Requirement already satisfied: matplotlib-inline in /Users/nata/Library/Python/3.9/lib/python/site-packages (from ipython->ipython-sql) (0.1.7)\n",
      "Requirement already satisfied: prompt-toolkit<3.1.0,>=3.0.41 in /Users/nata/Library/Python/3.9/lib/python/site-packages (from ipython->ipython-sql) (3.0.47)\n",
      "Requirement already satisfied: pygments>=2.4.0 in /Users/nata/Library/Python/3.9/lib/python/site-packages (from ipython->ipython-sql) (2.18.0)\n",
      "Requirement already satisfied: stack-data in /Users/nata/Library/Python/3.9/lib/python/site-packages (from ipython->ipython-sql) (0.6.3)\n",
      "Requirement already satisfied: traitlets>=5 in /Users/nata/Library/Python/3.9/lib/python/site-packages (from ipython->ipython-sql) (5.14.3)\n",
      "Requirement already satisfied: exceptiongroup in /Users/nata/Library/Python/3.9/lib/python/site-packages (from ipython->ipython-sql) (1.2.2)\n",
      "Requirement already satisfied: pexpect>4.3 in /Users/nata/Library/Python/3.9/lib/python/site-packages (from ipython->ipython-sql) (4.9.0)\n",
      "Requirement already satisfied: wcwidth in /Users/nata/Library/Python/3.9/lib/python/site-packages (from prettytable->ipython-sql) (0.2.13)\n",
      "Requirement already satisfied: parso<0.9.0,>=0.8.3 in /Users/nata/Library/Python/3.9/lib/python/site-packages (from jedi>=0.16->ipython->ipython-sql) (0.8.4)\n",
      "Requirement already satisfied: ptyprocess>=0.5 in /Users/nata/Library/Python/3.9/lib/python/site-packages (from pexpect>4.3->ipython->ipython-sql) (0.7.0)\n",
      "Requirement already satisfied: executing>=1.2.0 in /Users/nata/Library/Python/3.9/lib/python/site-packages (from stack-data->ipython->ipython-sql) (2.0.1)\n",
      "Requirement already satisfied: asttokens>=2.1.0 in /Users/nata/Library/Python/3.9/lib/python/site-packages (from stack-data->ipython->ipython-sql) (2.4.1)\n",
      "Requirement already satisfied: pure-eval in /Users/nata/Library/Python/3.9/lib/python/site-packages (from stack-data->ipython->ipython-sql) (0.2.3)\n",
      "Defaulting to user installation because normal site-packages is not writeable\n",
      "Requirement already satisfied: sqlalchemy in /Users/nata/Library/Python/3.9/lib/python/site-packages (2.0.34)\n",
      "Requirement already satisfied: pandas in /Users/nata/Library/Python/3.9/lib/python/site-packages (2.2.2)\n",
      "Requirement already satisfied: typing-extensions>=4.6.0 in /Users/nata/Library/Python/3.9/lib/python/site-packages (from sqlalchemy) (4.12.2)\n",
      "Requirement already satisfied: greenlet!=0.4.17 in /Users/nata/Library/Python/3.9/lib/python/site-packages (from sqlalchemy) (3.1.0)\n",
      "Requirement already satisfied: numpy>=1.22.4 in /Users/nata/Library/Python/3.9/lib/python/site-packages (from pandas) (1.26.4)\n",
      "Requirement already satisfied: python-dateutil>=2.8.2 in /Users/nata/Library/Python/3.9/lib/python/site-packages (from pandas) (2.9.0.post0)\n",
      "Requirement already satisfied: pytz>=2020.1 in /Users/nata/Library/Python/3.9/lib/python/site-packages (from pandas) (2024.1)\n",
      "Requirement already satisfied: tzdata>=2022.7 in /Users/nata/Library/Python/3.9/lib/python/site-packages (from pandas) (2024.1)\n",
      "Requirement already satisfied: six>=1.5 in /Library/Developer/CommandLineTools/Library/Frameworks/Python3.framework/Versions/3.9/lib/python3.9/site-packages (from python-dateutil>=2.8.2->pandas) (1.15.0)\n"
     ]
    }
   ],
   "source": [
    "!pip install ipython-sql\n",
    "!pip install sqlalchemy pandas\n"
   ]
  },
  {
   "cell_type": "code",
   "execution_count": 9,
   "metadata": {},
   "outputs": [
    {
     "name": "stdout",
     "output_type": "stream",
     "text": [
      "The sql extension is already loaded. To reload it, use:\n",
      "  %reload_ext sql\n"
     ]
    }
   ],
   "source": [
    "# Подключение к SQLite базе данных (файл базы данных создается автоматически, если его нет)\n",
    "%load_ext sql\n",
    "%sql sqlite:////Users/nata/tourism.db\n",
    "\n"
   ]
  },
  {
   "cell_type": "code",
   "execution_count": 11,
   "metadata": {},
   "outputs": [
    {
     "name": "stdout",
     "output_type": "stream",
     "text": [
      " * sqlite:////Users/nata/tourism.db\n",
      "Done.\n"
     ]
    },
    {
     "data": {
      "text/plain": [
       "[]"
      ]
     },
     "execution_count": 11,
     "metadata": {},
     "output_type": "execute_result"
    }
   ],
   "source": [
    "%%sql\n",
    "CREATE TABLE TourismTours (\n",
    "    TourID INTEGER PRIMARY KEY AUTOINCREMENT,  -- Поле с автоинкрементом\n",
    "    TourName VARCHAR(100) NOT NULL,\n",
    "    Destination VARCHAR(100) NOT NULL,\n",
    "    DurationDays INT NOT NULL,\n",
    "    Price DECIMAL(10, 2) NOT NULL,\n",
    "    StartDate DATE NOT NULL,\n",
    "    GuideName VARCHAR(100)\n",
    ");\n",
    "\n"
   ]
  },
  {
   "cell_type": "code",
   "execution_count": 12,
   "metadata": {},
   "outputs": [
    {
     "name": "stdout",
     "output_type": "stream",
     "text": [
      " * sqlite:////Users/nata/tourism.db\n",
      "3 rows affected.\n"
     ]
    },
    {
     "data": {
      "text/plain": [
       "[]"
      ]
     },
     "execution_count": 12,
     "metadata": {},
     "output_type": "execute_result"
    }
   ],
   "source": [
    "%%sql\n",
    "INSERT INTO TourismTours (TourName, Destination, DurationDays, Price, StartDate, GuideName)\n",
    "VALUES \n",
    "('Beach Adventure', 'Australia', 7, 1500.00, '2024-01-10', 'John Doe'),\n",
    "('Mountain Trek', 'Nepal', 14, 2500.00, '2024-02-15', 'Jane Smith'),\n",
    "('City Tour', 'France', 5, 1000.00, '2024-03-20', 'Emily Brown');\n"
   ]
  },
  {
   "cell_type": "code",
   "execution_count": 13,
   "metadata": {},
   "outputs": [
    {
     "name": "stdout",
     "output_type": "stream",
     "text": [
      " * sqlite:////Users/nata/tourism.db\n",
      "Done.\n"
     ]
    },
    {
     "data": {
      "text/html": [
       "<table>\n",
       "    <thead>\n",
       "        <tr>\n",
       "            <th>TourID</th>\n",
       "            <th>TourName</th>\n",
       "            <th>Destination</th>\n",
       "            <th>DurationDays</th>\n",
       "            <th>Price</th>\n",
       "            <th>StartDate</th>\n",
       "            <th>GuideName</th>\n",
       "        </tr>\n",
       "    </thead>\n",
       "    <tbody>\n",
       "        <tr>\n",
       "            <td>1</td>\n",
       "            <td>Beach Adventure</td>\n",
       "            <td>Australia</td>\n",
       "            <td>7</td>\n",
       "            <td>1500</td>\n",
       "            <td>2024-01-10</td>\n",
       "            <td>John Doe</td>\n",
       "        </tr>\n",
       "        <tr>\n",
       "            <td>2</td>\n",
       "            <td>Mountain Trek</td>\n",
       "            <td>Nepal</td>\n",
       "            <td>14</td>\n",
       "            <td>2500</td>\n",
       "            <td>2024-02-15</td>\n",
       "            <td>Jane Smith</td>\n",
       "        </tr>\n",
       "        <tr>\n",
       "            <td>3</td>\n",
       "            <td>City Tour</td>\n",
       "            <td>France</td>\n",
       "            <td>5</td>\n",
       "            <td>1000</td>\n",
       "            <td>2024-03-20</td>\n",
       "            <td>Emily Brown</td>\n",
       "        </tr>\n",
       "    </tbody>\n",
       "</table>"
      ],
      "text/plain": [
       "[(1, 'Beach Adventure', 'Australia', 7, 1500, '2024-01-10', 'John Doe'),\n",
       " (2, 'Mountain Trek', 'Nepal', 14, 2500, '2024-02-15', 'Jane Smith'),\n",
       " (3, 'City Tour', 'France', 5, 1000, '2024-03-20', 'Emily Brown')]"
      ]
     },
     "execution_count": 13,
     "metadata": {},
     "output_type": "execute_result"
    }
   ],
   "source": [
    "%%sql\n",
    "SELECT * FROM TourismTours;\n"
   ]
  }
 ],
 "metadata": {
  "kernelspec": {
   "display_name": "Python 3",
   "language": "python",
   "name": "python3"
  },
  "language_info": {
   "codemirror_mode": {
    "name": "ipython",
    "version": 3
   },
   "file_extension": ".py",
   "mimetype": "text/x-python",
   "name": "python",
   "nbconvert_exporter": "python",
   "pygments_lexer": "ipython3",
   "version": "3.9.6"
  }
 },
 "nbformat": 4,
 "nbformat_minor": 2
}
